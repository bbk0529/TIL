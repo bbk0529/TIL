{
 "cells": [
  {
   "cell_type": "code",
   "execution_count": 3,
   "metadata": {},
   "outputs": [
    {
     "name": "stdout",
     "output_type": "stream",
     "text": [
      "1.0 1.1\n",
      "1.0 1.0\n",
      "0.0 0.0\n",
      "0.0 0.1\n",
      "2.0 2.1\n",
      "2.0 2.2\n",
      "1.0 0.0\n",
      "1.1 0.0\n"
     ]
    }
   ],
   "source": [
    "import numpy as np\n",
    "import pandas as pd\n",
    "from pandas import DataFrame, Series\n",
    "\n",
    "from IPython.core.interactiveshell import InteractiveShell\n",
    "InteractiveShell.ast_node_interactivity='all' # - 전체 다 나온다 \n",
    "\n",
    "import operator\n",
    "\n",
    "import matplotlib.pyplot as plt\n",
    "%matplotlib inline\n",
    "\n",
    "def createDataSet():\n",
    "    group = np.array([\n",
    "        [1.0,1.1], [1.0,1.0], [0,0], [0,0.1],\n",
    "        [2.0,2.1], [2.0,2.2], [1.0,0], [1.1,0]\n",
    "    ])\n",
    "    labels = ['A','A','B','B', 'C','C','D','D']\n",
    "    return group, labels\n",
    "\n",
    "def classfy0(inX, dataSet, labels, k):\n",
    "       \n",
    "    distances=((dataSet -inX)**2).sum(axis=1)\n",
    "    sortIdx=distances.argsort()\n",
    "    countArr={}\n",
    "    \n",
    "    \n",
    "    for i in range(k) :\n",
    "        countArr[labels[sortIdx[i]]] = countArr.get(labels[sortIdx[i]],0) + 1\n",
    "    \n",
    "    plt.scatter(x=dataSet[:,0], y=dataSet[:,1], label=labels, marker= True)\n",
    "    plt.scatter(inX[0], inX[1])\n",
    "    sortedArr=(sorted(countArr, key=countArr.get, reverse=True))\n",
    "    \n",
    "    for i in sortedArr:\n",
    "        print(\"label :\", i, \"count :\", countArr.get(i))\n",
    "    \n",
    "    \n",
    "    #labeling for each point at Scatter diagram \n",
    "    for i, txt in enumerate(labels):\n",
    "        plt.annotate(txt, (dataSet[i,0], dataSet[i,1]))\n",
    "    print(\"\\n\", \"It seems highly: \", sortedArr[0])   \n",
    "       \n",
    "    return countArr  \n",
    "    \n",
    "\n",
    "for i in range(group.shape[0]):\n",
    "    print(group[i,0], group[i,1])\n",
    "\n",
    "\n"
   ]
  },
  {
   "cell_type": "code",
   "execution_count": 6,
   "metadata": {},
   "outputs": [
    {
     "name": "stdout",
     "output_type": "stream",
     "text": [
      "label : D count : 2\n",
      "label : A count : 1\n",
      "\n",
      " It seems highly:  D\n"
     ]
    },
    {
     "data": {
      "image/png": "[encoded data removed]",
      "text/plain": [
       "<matplotlib.figure.Figure at 0x7f97156e1438>"
      ]
     },
     "metadata": {},
     "output_type": "display_data"
    }
   ],
   "source": [
    "inX=[1.4,0.1]\n",
    "group, labels = createDataSet()\n",
    "a=classfy0(inX, group, labels, 3)"
   ]
  },
  {
   "cell_type": "code",
   "execution_count": null,
   "metadata": {
    "collapsed": true
   },
   "outputs": [],
   "source": []
  }
 ],
 "metadata": {
  "kernelspec": {
   "display_name": "Python 3",
   "language": "python",
   "name": "python3"
  },
  "language_info": {
   "codemirror_mode": {
    "name": "ipython",
    "version": 3
   },
   "file_extension": ".py",
   "mimetype": "text/x-python",
   "name": "python",
   "nbconvert_exporter": "python",
   "pygments_lexer": "ipython3",
   "version": "3.5.4"
  }
 },
 "nbformat": 4,
 "nbformat_minor": 2
}
